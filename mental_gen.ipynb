{
 "cells": [
  {
   "cell_type": "code",
   "execution_count": 1,
   "metadata": {
    "ExecuteTime": {
     "end_time": "2019-09-30T09:29:48.063237Z",
     "start_time": "2019-09-30T09:29:48.060905Z"
    }
   },
   "outputs": [],
   "source": [
    "import random"
   ]
  },
  {
   "cell_type": "code",
   "execution_count": 546,
   "metadata": {
    "ExecuteTime": {
     "end_time": "2019-10-02T05:30:57.068072Z",
     "start_time": "2019-10-02T05:30:57.063427Z"
    }
   },
   "outputs": [],
   "source": [
    "def generate_mental_multiplication_1():\n",
    "    first_num = random.randint(2, 12)\n",
    "    second_num = random.randint(2, 12)\n",
    "    if (first_num==2) & (second_num==2):\n",
    "        generate_mental_multiplication_1()\n",
    "    answer = first_num*second_num\n",
    "    return '{} x {} =    '.format(first_num, second_num), answer"
   ]
  },
  {
   "cell_type": "code",
   "execution_count": 547,
   "metadata": {
    "ExecuteTime": {
     "end_time": "2019-10-02T05:30:57.268079Z",
     "start_time": "2019-10-02T05:30:57.264061Z"
    }
   },
   "outputs": [],
   "source": [
    "def generate_mental_addition_1():\n",
    "    first_num = random.randint(2, 9)\n",
    "    second_num = random.randint(2, 9)\n",
    "    answer = first_num+second_num\n",
    "    if answer<10:\n",
    "        return generate_mental_addition_1()\n",
    "    return '{} + {} =    '.format(first_num, second_num), answer"
   ]
  },
  {
   "cell_type": "code",
   "execution_count": 548,
   "metadata": {
    "ExecuteTime": {
     "end_time": "2019-10-02T05:30:57.469542Z",
     "start_time": "2019-10-02T05:30:57.465669Z"
    }
   },
   "outputs": [],
   "source": [
    "def generate_mental_addition_2():\n",
    "    first_num = random.randint(2, 9)\n",
    "    second_num = random.randint(2, 9)\n",
    "    third_num = random.randint(2, 9)\n",
    "    answer = first_num+second_num+third_num\n",
    "    if answer<10:\n",
    "        return generate_mental_addition_2()\n",
    "    return '{} + {} + {} =    '.format(first_num, second_num, third_num), answer"
   ]
  },
  {
   "cell_type": "code",
   "execution_count": 549,
   "metadata": {
    "ExecuteTime": {
     "end_time": "2019-10-02T05:30:57.673830Z",
     "start_time": "2019-10-02T05:30:57.670153Z"
    }
   },
   "outputs": [],
   "source": [
    "def generate_mental_addition_3():\n",
    "    first_num = random.randint(2, 19)\n",
    "    second_num = random.randint(2, 19)\n",
    "    answer = first_num+second_num\n",
    "    if answer%10!=0:\n",
    "        return generate_mental_addition_3()\n",
    "    return '{} +     = {}'.format(first_num, answer), second_num"
   ]
  },
  {
   "cell_type": "code",
   "execution_count": 550,
   "metadata": {
    "ExecuteTime": {
     "end_time": "2019-10-02T05:30:57.901710Z",
     "start_time": "2019-10-02T05:30:57.897329Z"
    }
   },
   "outputs": [],
   "source": [
    "def generate_mental_addition_4():\n",
    "    first_num = random.randint(2, 98)\n",
    "    second_num = random.randint(2, 98)\n",
    "    answer = first_num+second_num\n",
    "    if (answer%10!=0) | (answer>100):\n",
    "        return generate_mental_addition_4()\n",
    "    return '{} +     = {}'.format(first_num, answer), second_num"
   ]
  },
  {
   "cell_type": "code",
   "execution_count": 551,
   "metadata": {
    "ExecuteTime": {
     "end_time": "2019-10-02T05:30:59.028884Z",
     "start_time": "2019-10-02T05:30:59.021885Z"
    }
   },
   "outputs": [
    {
     "data": {
      "text/plain": [
       "('16 +     = 30', 14)"
      ]
     },
     "execution_count": 551,
     "metadata": {},
     "output_type": "execute_result"
    }
   ],
   "source": [
    "generate_mental_addition_3()"
   ]
  },
  {
   "cell_type": "code",
   "execution_count": 552,
   "metadata": {
    "ExecuteTime": {
     "end_time": "2019-10-02T05:30:59.291388Z",
     "start_time": "2019-10-02T05:30:59.288151Z"
    }
   },
   "outputs": [
    {
     "data": {
      "text/plain": [
       "('26 +     = 50', 24)"
      ]
     },
     "execution_count": 552,
     "metadata": {},
     "output_type": "execute_result"
    }
   ],
   "source": [
    "generate_mental_addition_4()"
   ]
  },
  {
   "cell_type": "code",
   "execution_count": 553,
   "metadata": {
    "ExecuteTime": {
     "end_time": "2019-10-02T05:30:59.561965Z",
     "start_time": "2019-10-02T05:30:59.557979Z"
    }
   },
   "outputs": [
    {
     "data": {
      "text/plain": [
       "('2 + 9 + 8 =    ', 19)"
      ]
     },
     "execution_count": 553,
     "metadata": {},
     "output_type": "execute_result"
    }
   ],
   "source": [
    "generate_mental_addition_2()"
   ]
  },
  {
   "cell_type": "code",
   "execution_count": 554,
   "metadata": {
    "ExecuteTime": {
     "end_time": "2019-10-02T05:30:59.835006Z",
     "start_time": "2019-10-02T05:30:59.831107Z"
    }
   },
   "outputs": [
    {
     "data": {
      "text/plain": [
       "('9 + 9 =    ', 18)"
      ]
     },
     "execution_count": 554,
     "metadata": {},
     "output_type": "execute_result"
    }
   ],
   "source": [
    "generate_mental_addition_1()"
   ]
  },
  {
   "cell_type": "code",
   "execution_count": null,
   "metadata": {},
   "outputs": [],
   "source": []
  },
  {
   "cell_type": "code",
   "execution_count": 555,
   "metadata": {
    "ExecuteTime": {
     "end_time": "2019-10-02T05:31:02.041845Z",
     "start_time": "2019-10-02T05:31:02.037660Z"
    }
   },
   "outputs": [
    {
     "data": {
      "text/plain": [
       "('10 x 6 =    ', 60)"
      ]
     },
     "execution_count": 555,
     "metadata": {},
     "output_type": "execute_result"
    }
   ],
   "source": [
    "generate_mental_multiplication_1()"
   ]
  },
  {
   "cell_type": "code",
   "execution_count": 556,
   "metadata": {
    "ExecuteTime": {
     "end_time": "2019-10-02T05:31:03.121483Z",
     "start_time": "2019-10-02T05:31:03.115100Z"
    }
   },
   "outputs": [],
   "source": [
    "def generate_questions_and_answers(row, func):\n",
    "    first_ques_list = []\n",
    "    first_answer_list = []\n",
    "    for _, x in enumerate(range(50)):\n",
    "        generated_ques = func()\n",
    "        ques_num = str(_+1+(row*50))+')'\n",
    "        first_ques_list.append([ques_num, generated_ques[0]])\n",
    "        first_answer_list.append([ques_num, generated_ques[1]])\n",
    "    return first_ques_list , first_answer_list\n"
   ]
  },
  {
   "cell_type": "code",
   "execution_count": 557,
   "metadata": {
    "ExecuteTime": {
     "end_time": "2019-10-02T05:31:03.642127Z",
     "start_time": "2019-10-02T05:31:03.634210Z"
    }
   },
   "outputs": [
    {
     "data": {
      "text/plain": [
       "([['101)', '5 x 10 =    '],\n",
       "  ['102)', '10 x 5 =    '],\n",
       "  ['103)', '11 x 4 =    '],\n",
       "  ['104)', '10 x 11 =    '],\n",
       "  ['105)', '7 x 12 =    '],\n",
       "  ['106)', '8 x 7 =    '],\n",
       "  ['107)', '7 x 7 =    '],\n",
       "  ['108)', '2 x 8 =    '],\n",
       "  ['109)', '12 x 3 =    '],\n",
       "  ['110)', '11 x 3 =    '],\n",
       "  ['111)', '4 x 5 =    '],\n",
       "  ['112)', '8 x 6 =    '],\n",
       "  ['113)', '7 x 12 =    '],\n",
       "  ['114)', '4 x 3 =    '],\n",
       "  ['115)', '2 x 2 =    '],\n",
       "  ['116)', '8 x 6 =    '],\n",
       "  ['117)', '10 x 4 =    '],\n",
       "  ['118)', '12 x 5 =    '],\n",
       "  ['119)', '8 x 10 =    '],\n",
       "  ['120)', '4 x 2 =    '],\n",
       "  ['121)', '11 x 6 =    '],\n",
       "  ['122)', '11 x 12 =    '],\n",
       "  ['123)', '2 x 8 =    '],\n",
       "  ['124)', '6 x 5 =    '],\n",
       "  ['125)', '6 x 11 =    '],\n",
       "  ['126)', '6 x 9 =    '],\n",
       "  ['127)', '8 x 6 =    '],\n",
       "  ['128)', '11 x 3 =    '],\n",
       "  ['129)', '8 x 7 =    '],\n",
       "  ['130)', '10 x 6 =    '],\n",
       "  ['131)', '9 x 4 =    '],\n",
       "  ['132)', '10 x 2 =    '],\n",
       "  ['133)', '2 x 7 =    '],\n",
       "  ['134)', '2 x 2 =    '],\n",
       "  ['135)', '8 x 8 =    '],\n",
       "  ['136)', '11 x 9 =    '],\n",
       "  ['137)', '4 x 11 =    '],\n",
       "  ['138)', '7 x 7 =    '],\n",
       "  ['139)', '12 x 5 =    '],\n",
       "  ['140)', '10 x 10 =    '],\n",
       "  ['141)', '4 x 7 =    '],\n",
       "  ['142)', '11 x 9 =    '],\n",
       "  ['143)', '8 x 9 =    '],\n",
       "  ['144)', '12 x 7 =    '],\n",
       "  ['145)', '2 x 10 =    '],\n",
       "  ['146)', '6 x 12 =    '],\n",
       "  ['147)', '3 x 4 =    '],\n",
       "  ['148)', '5 x 4 =    '],\n",
       "  ['149)', '4 x 8 =    '],\n",
       "  ['150)', '2 x 8 =    ']],\n",
       " [['101)', 50],\n",
       "  ['102)', 50],\n",
       "  ['103)', 44],\n",
       "  ['104)', 110],\n",
       "  ['105)', 84],\n",
       "  ['106)', 56],\n",
       "  ['107)', 49],\n",
       "  ['108)', 16],\n",
       "  ['109)', 36],\n",
       "  ['110)', 33],\n",
       "  ['111)', 20],\n",
       "  ['112)', 48],\n",
       "  ['113)', 84],\n",
       "  ['114)', 12],\n",
       "  ['115)', 4],\n",
       "  ['116)', 48],\n",
       "  ['117)', 40],\n",
       "  ['118)', 60],\n",
       "  ['119)', 80],\n",
       "  ['120)', 8],\n",
       "  ['121)', 66],\n",
       "  ['122)', 132],\n",
       "  ['123)', 16],\n",
       "  ['124)', 30],\n",
       "  ['125)', 66],\n",
       "  ['126)', 54],\n",
       "  ['127)', 48],\n",
       "  ['128)', 33],\n",
       "  ['129)', 56],\n",
       "  ['130)', 60],\n",
       "  ['131)', 36],\n",
       "  ['132)', 20],\n",
       "  ['133)', 14],\n",
       "  ['134)', 4],\n",
       "  ['135)', 64],\n",
       "  ['136)', 99],\n",
       "  ['137)', 44],\n",
       "  ['138)', 49],\n",
       "  ['139)', 60],\n",
       "  ['140)', 100],\n",
       "  ['141)', 28],\n",
       "  ['142)', 99],\n",
       "  ['143)', 72],\n",
       "  ['144)', 84],\n",
       "  ['145)', 20],\n",
       "  ['146)', 72],\n",
       "  ['147)', 12],\n",
       "  ['148)', 20],\n",
       "  ['149)', 32],\n",
       "  ['150)', 16]])"
      ]
     },
     "execution_count": 557,
     "metadata": {},
     "output_type": "execute_result"
    }
   ],
   "source": [
    "generate_questions_and_answers(2, generate_mental_multiplication_1)"
   ]
  },
  {
   "cell_type": "code",
   "execution_count": 598,
   "metadata": {
    "ExecuteTime": {
     "end_time": "2019-10-02T05:37:13.205646Z",
     "start_time": "2019-10-02T05:37:13.195734Z"
    }
   },
   "outputs": [],
   "source": [
    "def generate_questions_excel(workbook, cell_format_title, cell_format_q, cell_format_content, ques_worksheet_name, ans_worksheet_name, title, func):\n",
    "    # import xlsxwriter module \n",
    "     \n",
    "\n",
    "    # By default worksheet names in the spreadsheet will be \n",
    "    # Sheet1, Sheet2 etc., but we can also specify a name. \n",
    "    question_worksheet = workbook.add_worksheet(ques_worksheet_name) \n",
    "    answer_worksheet = workbook.add_worksheet(ans_worksheet_name)\n",
    "    ques_cols = ['A:A', 'C:C', 'E:E', 'G:G']\n",
    "    content_cols = ['B:B', 'D:D', 'F:F', 'H:H']\n",
    "    for col_q, col_content in zip(ques_cols, content_cols):\n",
    "        question_worksheet.set_column(col_q, 4, cell_format_q)\n",
    "        question_worksheet.set_column(col_content, 13, cell_format_content)\n",
    "\n",
    "    question_worksheet.write(0,0, title, cell_format_title) \n",
    "    answer_worksheet.write(0, 0, title, cell_format_title) \n",
    "\n",
    "    row = 0 \n",
    "    col = 0\n",
    "\n",
    "    for x in range(4):\n",
    "        first_row_list, first_answer_list = generate_questions_and_answers(x, func)\n",
    "\n",
    "        # Start from the first cell. Rows and \n",
    "        # columns are zero indexed. \n",
    "        row = 1\n",
    "        col = x*2\n",
    "\n",
    "\n",
    "        # Iterate over the data and write it out row by row. \n",
    "        for question_num, question in (first_row_list): \n",
    "            question_worksheet.write(row, col, question_num, cell_format_q) \n",
    "            question_worksheet.write(row, col + 1, question, cell_format_content) \n",
    "            row += 1\n",
    "\n",
    "\n",
    "        row = 1\n",
    "        col = x*2\n",
    "        # Iterate over the data and write it out row by row. \n",
    "        for question_num, question in (first_answer_list): \n",
    "            answer_worksheet.write(row, col, question_num, cell_format_q) \n",
    "            answer_worksheet.write(row, col + 1, question, cell_format_content) \n",
    "            row += 1\n",
    "\n",
    "    row = 51\n",
    "    col = 0\n",
    "    question_worksheet.write(51, 0, 'SCORE: |- - - - -|- - - - -|- - - - -|- - - - -|', cell_format_title) \n",
    "    answer_worksheet.write(51, 0, 'SCORE: |- - - - -|- - - - -|- - - - -|- - - - -|', cell_format_title) \n",
    "\n",
    "#     workbook.close() "
   ]
  },
  {
   "cell_type": "markdown",
   "metadata": {},
   "source": [
    "# FINAL SHIT"
   ]
  },
  {
   "cell_type": "code",
   "execution_count": 599,
   "metadata": {
    "ExecuteTime": {
     "end_time": "2019-10-02T05:37:13.559366Z",
     "start_time": "2019-10-02T05:37:13.553903Z"
    }
   },
   "outputs": [],
   "source": [
    "import xlsxwriter \n",
    "workbook = xlsxwriter.Workbook('mental_drills.xlsx')\n",
    "\n",
    "cell_format_title = workbook.add_format({'bold': True, \n",
    "                                   'font_color': 'black',\n",
    "                                  'align': 'left_across'})\n",
    "\n",
    "cell_format_q = workbook.add_format({'bold': True, \n",
    "                                   'font_color': 'black',\n",
    "                                  'align': 'right'})\n",
    "cell_format_q.set_bottom(3)\n",
    "cell_format_content = workbook.add_format({'bold': False, \n",
    "                                   'font_color': 'black',\n",
    "                                  'align': 'left'})\n",
    "cell_format_content.set_bottom(3)"
   ]
  },
  {
   "cell_type": "code",
   "execution_count": 600,
   "metadata": {
    "ExecuteTime": {
     "end_time": "2019-10-02T05:37:13.742511Z",
     "start_time": "2019-10-02T05:37:13.733941Z"
    }
   },
   "outputs": [],
   "source": [
    "generate_questions_excel(workbook,\n",
    "                         cell_format_title,\n",
    "                         cell_format_q,\n",
    "                         cell_format_content,\n",
    "                         ques_worksheet_name = \"ques mult_1\", \n",
    "                         ans_worksheet_name = \"answer mult_1\", \n",
    "                         title = 'Mental Math Training: Multiplication 1',\n",
    "                         func = generate_mental_multiplication_1)"
   ]
  },
  {
   "cell_type": "code",
   "execution_count": 601,
   "metadata": {
    "ExecuteTime": {
     "end_time": "2019-10-02T05:37:13.923501Z",
     "start_time": "2019-10-02T05:37:13.913982Z"
    }
   },
   "outputs": [],
   "source": [
    "generate_questions_excel(workbook,\n",
    "                         cell_format_title,\n",
    "                         cell_format_q,\n",
    "                         cell_format_content,\n",
    "                         ques_worksheet_name = \"ques add_1\", \n",
    "                         ans_worksheet_name = \"answer add_1\", \n",
    "                         title = 'Mental Math Training: Addition 1',\n",
    "                         func = generate_mental_addition_1)"
   ]
  },
  {
   "cell_type": "code",
   "execution_count": 602,
   "metadata": {
    "ExecuteTime": {
     "end_time": "2019-10-02T05:37:14.100747Z",
     "start_time": "2019-10-02T05:37:14.092876Z"
    }
   },
   "outputs": [],
   "source": [
    "generate_questions_excel(workbook,\n",
    "                         cell_format_title,\n",
    "                         cell_format_q,\n",
    "                         cell_format_content,\n",
    "                         ques_worksheet_name = \"ques add_2\", \n",
    "                         ans_worksheet_name = \"answer add_2\", \n",
    "                         title = 'Mental Math Training: Addition 2',\n",
    "                         func = generate_mental_addition_2)"
   ]
  },
  {
   "cell_type": "code",
   "execution_count": 603,
   "metadata": {
    "ExecuteTime": {
     "end_time": "2019-10-02T05:37:14.302191Z",
     "start_time": "2019-10-02T05:37:14.291934Z"
    }
   },
   "outputs": [],
   "source": [
    "generate_questions_excel(workbook,\n",
    "                         cell_format_title,\n",
    "                         cell_format_q,\n",
    "                         cell_format_content,\n",
    "                         ques_worksheet_name = \"ques add_3\", \n",
    "                         ans_worksheet_name = \"answer add_3\", \n",
    "                         title = 'Mental Math Training: Addition 3',\n",
    "                         func = generate_mental_addition_3)"
   ]
  },
  {
   "cell_type": "code",
   "execution_count": 604,
   "metadata": {
    "ExecuteTime": {
     "end_time": "2019-10-02T05:37:14.512275Z",
     "start_time": "2019-10-02T05:37:14.496734Z"
    }
   },
   "outputs": [],
   "source": [
    "generate_questions_excel(workbook,\n",
    "                         cell_format_title,\n",
    "                         cell_format_q,\n",
    "                         cell_format_content,\n",
    "                         ques_worksheet_name = \"ques add_4\", \n",
    "                         ans_worksheet_name = \"answer add_4\", \n",
    "                         title = 'Mental Math Training: Addition 4',\n",
    "                         func = generate_mental_addition_4)"
   ]
  },
  {
   "cell_type": "code",
   "execution_count": 605,
   "metadata": {
    "ExecuteTime": {
     "end_time": "2019-10-02T05:37:15.042013Z",
     "start_time": "2019-10-02T05:37:14.994288Z"
    }
   },
   "outputs": [],
   "source": [
    "workbook.close() "
   ]
  },
  {
   "cell_type": "code",
   "execution_count": null,
   "metadata": {},
   "outputs": [],
   "source": []
  },
  {
   "cell_type": "code",
   "execution_count": null,
   "metadata": {},
   "outputs": [],
   "source": []
  }
 ],
 "metadata": {
  "kernelspec": {
   "display_name": "Python 3",
   "language": "python",
   "name": "python3"
  },
  "language_info": {
   "codemirror_mode": {
    "name": "ipython",
    "version": 3
   },
   "file_extension": ".py",
   "mimetype": "text/x-python",
   "name": "python",
   "nbconvert_exporter": "python",
   "pygments_lexer": "ipython3",
   "version": "3.7.1"
  },
  "toc": {
   "base_numbering": 1,
   "nav_menu": {},
   "number_sections": true,
   "sideBar": true,
   "skip_h1_title": false,
   "title_cell": "Table of Contents",
   "title_sidebar": "Contents",
   "toc_cell": false,
   "toc_position": {},
   "toc_section_display": true,
   "toc_window_display": false
  }
 },
 "nbformat": 4,
 "nbformat_minor": 2
}
